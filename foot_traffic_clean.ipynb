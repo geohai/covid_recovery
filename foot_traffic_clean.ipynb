{
 "cells": [
  {
   "cell_type": "code",
   "execution_count": 6,
   "metadata": {},
   "outputs": [],
   "source": [
    "import numpy as np\n",
    "import pandas as pd\n",
    "import os\n",
    "import json\n",
    "from glob import glob\n",
    "from pandas.io.json import json_normalize"
   ]
  },
  {
   "cell_type": "code",
   "execution_count": 4,
   "metadata": {},
   "outputs": [],
   "source": [
    "# locate all .csv.gz (compressed) data files\n",
    "\n",
    "PATH = \"/Users/esrieves/Documents/school/Research/foot_traffic/downloads/big5_cities\"\n",
    "EXT = \"core_poi-patterns.csv.gz\"\n",
    "\n",
    "all_csv_files = [file\n",
    "                for path, subdir, files in os.walk(PATH)\n",
    "                for file in glob(os.path.join(path, EXT))]\n",
    "\n",
    "# print(all_csv_files)"
   ]
  },
  {
   "cell_type": "code",
   "execution_count": 3,
   "metadata": {},
   "outputs": [],
   "source": [
    "# read each compressed csv and add all to one data frame\n",
    "\n",
    "all_dfs = (pd.read_csv(f,compression=\"gzip\") for f in all_csv_files)\n",
    "df = pd.concat(all_dfs, ignore_index = True)"
   ]
  },
  {
   "cell_type": "code",
   "execution_count": 4,
   "metadata": {},
   "outputs": [],
   "source": [
    "df = pd.DataFrame(df)\n"
   ]
  },
  {
   "cell_type": "code",
   "execution_count": 5,
   "metadata": {},
   "outputs": [
    {
     "data": {
      "text/html": [
       "<div>\n",
       "<style scoped>\n",
       "    .dataframe tbody tr th:only-of-type {\n",
       "        vertical-align: middle;\n",
       "    }\n",
       "\n",
       "    .dataframe tbody tr th {\n",
       "        vertical-align: top;\n",
       "    }\n",
       "\n",
       "    .dataframe thead th {\n",
       "        text-align: right;\n",
       "    }\n",
       "</style>\n",
       "<table border=\"1\" class=\"dataframe\">\n",
       "  <thead>\n",
       "    <tr style=\"text-align: right;\">\n",
       "      <th></th>\n",
       "      <th>placekey</th>\n",
       "      <th>parent_placekey</th>\n",
       "      <th>location_name</th>\n",
       "      <th>safegraph_brand_ids</th>\n",
       "      <th>brands</th>\n",
       "      <th>top_category</th>\n",
       "      <th>sub_category</th>\n",
       "      <th>category_tags</th>\n",
       "      <th>naics_code</th>\n",
       "      <th>latitude</th>\n",
       "      <th>...</th>\n",
       "      <th>median_dwell</th>\n",
       "      <th>bucketed_dwell_times</th>\n",
       "      <th>related_same_day_brand</th>\n",
       "      <th>related_same_month_brand</th>\n",
       "      <th>popularity_by_hour</th>\n",
       "      <th>popularity_by_day</th>\n",
       "      <th>device_type</th>\n",
       "      <th>poi_cbg</th>\n",
       "      <th>visitor_home_aggregation</th>\n",
       "      <th>visitor_daytime_cbgs</th>\n",
       "    </tr>\n",
       "  </thead>\n",
       "  <tbody>\n",
       "    <tr>\n",
       "      <th>0</th>\n",
       "      <td>22v-224@8fc-9v8-y7q</td>\n",
       "      <td>NaN</td>\n",
       "      <td>Julie Sample RE MAX Professional Group</td>\n",
       "      <td>NaN</td>\n",
       "      <td>NaN</td>\n",
       "      <td>Offices of Real Estate Agents and Brokers</td>\n",
       "      <td>Offices of Real Estate Agents and Brokers</td>\n",
       "      <td>NaN</td>\n",
       "      <td>531210.0</td>\n",
       "      <td>29.947698</td>\n",
       "      <td>...</td>\n",
       "      <td>NaN</td>\n",
       "      <td>NaN</td>\n",
       "      <td>NaN</td>\n",
       "      <td>NaN</td>\n",
       "      <td>NaN</td>\n",
       "      <td>NaN</td>\n",
       "      <td>NaN</td>\n",
       "      <td>NaN</td>\n",
       "      <td>NaN</td>\n",
       "      <td>NaN</td>\n",
       "    </tr>\n",
       "    <tr>\n",
       "      <th>1</th>\n",
       "      <td>22f-222@5z5-3rq-4sq</td>\n",
       "      <td>NaN</td>\n",
       "      <td>Ninfa's Flowers &amp; Gifts</td>\n",
       "      <td>NaN</td>\n",
       "      <td>NaN</td>\n",
       "      <td>Florists</td>\n",
       "      <td>Florists</td>\n",
       "      <td>NaN</td>\n",
       "      <td>453110.0</td>\n",
       "      <td>34.034561</td>\n",
       "      <td>...</td>\n",
       "      <td>10.0</td>\n",
       "      <td>{\"&lt;5\":7,\"5-10\":55,\"11-20\":27,\"21-60\":21,\"61-12...</td>\n",
       "      <td>{\"Northgate González Markets\":6,\"McDonald's\":6...</td>\n",
       "      <td>{\"McDonald's\":51,\"Target\":35,\"The Home Depot\":...</td>\n",
       "      <td>[4,4,3,3,3,4,11,11,14,8,10,11,10,19,12,7,9,9,1...</td>\n",
       "      <td>{\"Monday\":9,\"Tuesday\":14,\"Wednesday\":13,\"Thurs...</td>\n",
       "      <td>{\"android\":71,\"ios\":29}</td>\n",
       "      <td>6.037205e+10</td>\n",
       "      <td>{\"06037204700\":7,\"06037480804\":7,\"06037208802\"...</td>\n",
       "      <td>{\"060372047001\":7,\"060710038011\":4,\"0603730100...</td>\n",
       "    </tr>\n",
       "    <tr>\n",
       "      <th>2</th>\n",
       "      <td>22r-222@5z5-3r4-7wk</td>\n",
       "      <td>NaN</td>\n",
       "      <td>Melrose Station</td>\n",
       "      <td>NaN</td>\n",
       "      <td>NaN</td>\n",
       "      <td>Drinking Places (Alcoholic Beverages)</td>\n",
       "      <td>Drinking Places (Alcoholic Beverages)</td>\n",
       "      <td>Bar or Pub,Cocktail Lounge,Late Night,Tapas</td>\n",
       "      <td>722410.0</td>\n",
       "      <td>34.083452</td>\n",
       "      <td>...</td>\n",
       "      <td>40.0</td>\n",
       "      <td>{\"&lt;5\":0,\"5-10\":5,\"11-20\":6,\"21-60\":11,\"61-120\"...</td>\n",
       "      <td>{\"Jimmy John's\":6,\"Chevron\":3,\"Lowe's\":3,\"The ...</td>\n",
       "      <td>{\"Starbucks\":41,\"7-Eleven\":32,\"Mobil\":27,\"Ralp...</td>\n",
       "      <td>[0,0,1,0,0,0,0,2,4,6,4,2,12,12,8,10,6,5,5,4,2,...</td>\n",
       "      <td>{\"Monday\":7,\"Tuesday\":9,\"Wednesday\":4,\"Thursda...</td>\n",
       "      <td>{\"android\":10,\"ios\":11}</td>\n",
       "      <td>6.037192e+10</td>\n",
       "      <td>{\"06037190201\":5,\"06037701701\":4,\"06037901101\":4}</td>\n",
       "      <td>{\"060372315001\":4}</td>\n",
       "    </tr>\n",
       "    <tr>\n",
       "      <th>3</th>\n",
       "      <td>226-222@8fc-fbw-835</td>\n",
       "      <td>NaN</td>\n",
       "      <td>ACE Cash Express</td>\n",
       "      <td>SG_BRAND_1f80a87e178e0d5e04c8217210b2b9cb</td>\n",
       "      <td>ACE Cash Express</td>\n",
       "      <td>Activities Related to Credit Intermediation</td>\n",
       "      <td>Other Activities Related to Credit Intermediation</td>\n",
       "      <td>NaN</td>\n",
       "      <td>522390.0</td>\n",
       "      <td>29.684863</td>\n",
       "      <td>...</td>\n",
       "      <td>60.0</td>\n",
       "      <td>{\"&lt;5\":0,\"5-10\":2,\"11-20\":1,\"21-60\":2,\"61-120\":...</td>\n",
       "      <td>{\"24 Hour Fitness\":60,\"Subway\":30,\"Chevron\":20...</td>\n",
       "      <td>{\"Chevron\":67,\"Popeyes Louisiana Kitchen\":67,\"...</td>\n",
       "      <td>[1,1,0,0,0,0,0,0,0,0,0,1,1,0,1,1,3,3,1,3,3,2,2,2]</td>\n",
       "      <td>{\"Monday\":2,\"Tuesday\":2,\"Wednesday\":0,\"Thursda...</td>\n",
       "      <td>{\"android\":4,\"ios\":0}</td>\n",
       "      <td>4.820133e+11</td>\n",
       "      <td>{}</td>\n",
       "      <td>{}</td>\n",
       "    </tr>\n",
       "    <tr>\n",
       "      <th>4</th>\n",
       "      <td>227-22q@5pw-2n9-wzf</td>\n",
       "      <td>zzw-224@5pw-2n9-whq</td>\n",
       "      <td>Auntie Anne's</td>\n",
       "      <td>SG_BRAND_ce748140d1750c3620f9e803e4af0170</td>\n",
       "      <td>Auntie Anne's</td>\n",
       "      <td>Restaurants and Other Eating Places</td>\n",
       "      <td>Snack and Nonalcoholic Beverage Bars</td>\n",
       "      <td>Snacks,Counter Service,Cafeteria,Truck or Cart...</td>\n",
       "      <td>722515.0</td>\n",
       "      <td>41.757573</td>\n",
       "      <td>...</td>\n",
       "      <td>NaN</td>\n",
       "      <td>NaN</td>\n",
       "      <td>NaN</td>\n",
       "      <td>NaN</td>\n",
       "      <td>NaN</td>\n",
       "      <td>NaN</td>\n",
       "      <td>NaN</td>\n",
       "      <td>NaN</td>\n",
       "      <td>NaN</td>\n",
       "      <td>NaN</td>\n",
       "    </tr>\n",
       "  </tbody>\n",
       "</table>\n",
       "<p>5 rows × 40 columns</p>\n",
       "</div>"
      ],
      "text/plain": [
       "              placekey      parent_placekey  \\\n",
       "0  22v-224@8fc-9v8-y7q                  NaN   \n",
       "1  22f-222@5z5-3rq-4sq                  NaN   \n",
       "2  22r-222@5z5-3r4-7wk                  NaN   \n",
       "3  226-222@8fc-fbw-835                  NaN   \n",
       "4  227-22q@5pw-2n9-wzf  zzw-224@5pw-2n9-whq   \n",
       "\n",
       "                            location_name  \\\n",
       "0  Julie Sample RE MAX Professional Group   \n",
       "1                 Ninfa's Flowers & Gifts   \n",
       "2                         Melrose Station   \n",
       "3                        ACE Cash Express   \n",
       "4                           Auntie Anne's   \n",
       "\n",
       "                         safegraph_brand_ids            brands  \\\n",
       "0                                        NaN               NaN   \n",
       "1                                        NaN               NaN   \n",
       "2                                        NaN               NaN   \n",
       "3  SG_BRAND_1f80a87e178e0d5e04c8217210b2b9cb  ACE Cash Express   \n",
       "4  SG_BRAND_ce748140d1750c3620f9e803e4af0170     Auntie Anne's   \n",
       "\n",
       "                                  top_category  \\\n",
       "0    Offices of Real Estate Agents and Brokers   \n",
       "1                                     Florists   \n",
       "2        Drinking Places (Alcoholic Beverages)   \n",
       "3  Activities Related to Credit Intermediation   \n",
       "4          Restaurants and Other Eating Places   \n",
       "\n",
       "                                        sub_category  \\\n",
       "0          Offices of Real Estate Agents and Brokers   \n",
       "1                                           Florists   \n",
       "2              Drinking Places (Alcoholic Beverages)   \n",
       "3  Other Activities Related to Credit Intermediation   \n",
       "4               Snack and Nonalcoholic Beverage Bars   \n",
       "\n",
       "                                       category_tags  naics_code   latitude  \\\n",
       "0                                                NaN    531210.0  29.947698   \n",
       "1                                                NaN    453110.0  34.034561   \n",
       "2        Bar or Pub,Cocktail Lounge,Late Night,Tapas    722410.0  34.083452   \n",
       "3                                                NaN    522390.0  29.684863   \n",
       "4  Snacks,Counter Service,Cafeteria,Truck or Cart...    722515.0  41.757573   \n",
       "\n",
       "   ...  median_dwell                               bucketed_dwell_times  \\\n",
       "0  ...           NaN                                                NaN   \n",
       "1  ...          10.0  {\"<5\":7,\"5-10\":55,\"11-20\":27,\"21-60\":21,\"61-12...   \n",
       "2  ...          40.0  {\"<5\":0,\"5-10\":5,\"11-20\":6,\"21-60\":11,\"61-120\"...   \n",
       "3  ...          60.0  {\"<5\":0,\"5-10\":2,\"11-20\":1,\"21-60\":2,\"61-120\":...   \n",
       "4  ...           NaN                                                NaN   \n",
       "\n",
       "                              related_same_day_brand  \\\n",
       "0                                                NaN   \n",
       "1  {\"Northgate González Markets\":6,\"McDonald's\":6...   \n",
       "2  {\"Jimmy John's\":6,\"Chevron\":3,\"Lowe's\":3,\"The ...   \n",
       "3  {\"24 Hour Fitness\":60,\"Subway\":30,\"Chevron\":20...   \n",
       "4                                                NaN   \n",
       "\n",
       "                            related_same_month_brand  \\\n",
       "0                                                NaN   \n",
       "1  {\"McDonald's\":51,\"Target\":35,\"The Home Depot\":...   \n",
       "2  {\"Starbucks\":41,\"7-Eleven\":32,\"Mobil\":27,\"Ralp...   \n",
       "3  {\"Chevron\":67,\"Popeyes Louisiana Kitchen\":67,\"...   \n",
       "4                                                NaN   \n",
       "\n",
       "                                  popularity_by_hour  \\\n",
       "0                                                NaN   \n",
       "1  [4,4,3,3,3,4,11,11,14,8,10,11,10,19,12,7,9,9,1...   \n",
       "2  [0,0,1,0,0,0,0,2,4,6,4,2,12,12,8,10,6,5,5,4,2,...   \n",
       "3  [1,1,0,0,0,0,0,0,0,0,0,1,1,0,1,1,3,3,1,3,3,2,2,2]   \n",
       "4                                                NaN   \n",
       "\n",
       "                                   popularity_by_day              device_type  \\\n",
       "0                                                NaN                      NaN   \n",
       "1  {\"Monday\":9,\"Tuesday\":14,\"Wednesday\":13,\"Thurs...  {\"android\":71,\"ios\":29}   \n",
       "2  {\"Monday\":7,\"Tuesday\":9,\"Wednesday\":4,\"Thursda...  {\"android\":10,\"ios\":11}   \n",
       "3  {\"Monday\":2,\"Tuesday\":2,\"Wednesday\":0,\"Thursda...    {\"android\":4,\"ios\":0}   \n",
       "4                                                NaN                      NaN   \n",
       "\n",
       "        poi_cbg                           visitor_home_aggregation  \\\n",
       "0           NaN                                                NaN   \n",
       "1  6.037205e+10  {\"06037204700\":7,\"06037480804\":7,\"06037208802\"...   \n",
       "2  6.037192e+10  {\"06037190201\":5,\"06037701701\":4,\"06037901101\":4}   \n",
       "3  4.820133e+11                                                 {}   \n",
       "4           NaN                                                NaN   \n",
       "\n",
       "                                visitor_daytime_cbgs  \n",
       "0                                                NaN  \n",
       "1  {\"060372047001\":7,\"060710038011\":4,\"0603730100...  \n",
       "2                                 {\"060372315001\":4}  \n",
       "3                                                 {}  \n",
       "4                                                NaN  \n",
       "\n",
       "[5 rows x 40 columns]"
      ]
     },
     "execution_count": 5,
     "metadata": {},
     "output_type": "execute_result"
    }
   ],
   "source": [
    "df.head()"
   ]
  },
  {
   "cell_type": "code",
   "execution_count": 6,
   "metadata": {},
   "outputs": [
    {
     "data": {
      "text/plain": [
       "['placekey',\n",
       " 'parent_placekey',\n",
       " 'location_name',\n",
       " 'safegraph_brand_ids',\n",
       " 'brands',\n",
       " 'top_category',\n",
       " 'sub_category',\n",
       " 'category_tags',\n",
       " 'naics_code',\n",
       " 'latitude',\n",
       " 'longitude',\n",
       " 'street_address',\n",
       " 'city',\n",
       " 'region',\n",
       " 'postal_code',\n",
       " 'iso_country_code',\n",
       " 'phone_number',\n",
       " 'open_hours',\n",
       " 'opened_on',\n",
       " 'closed_on',\n",
       " 'tracking_closed_since',\n",
       " 'geometry_type',\n",
       " 'date_range_start',\n",
       " 'date_range_end',\n",
       " 'raw_visit_counts',\n",
       " 'raw_visitor_counts',\n",
       " 'visits_by_day',\n",
       " 'visitor_home_cbgs',\n",
       " 'visitor_country_of_origin',\n",
       " 'distance_from_home',\n",
       " 'median_dwell',\n",
       " 'bucketed_dwell_times',\n",
       " 'related_same_day_brand',\n",
       " 'related_same_month_brand',\n",
       " 'popularity_by_hour',\n",
       " 'popularity_by_day',\n",
       " 'device_type',\n",
       " 'poi_cbg',\n",
       " 'visitor_home_aggregation',\n",
       " 'visitor_daytime_cbgs']"
      ]
     },
     "execution_count": 6,
     "metadata": {},
     "output_type": "execute_result"
    }
   ],
   "source": [
    "list(df.columns)"
   ]
  },
  {
   "cell_type": "code",
   "execution_count": null,
   "metadata": {},
   "outputs": [],
   "source": [
    "df = df[[\"placekey\",\"date_range_start\",\"date_range_end\",\"location_name\",\"naics_code\",\"visitor_home_cbgs\",\"poi_cbg\",\"bucketed_dwell_times\",\"city\"]].dropna(subset = [\"visitor_home_cbgs\",\"poi_cbg\",\"placekey\"])\n",
    "\n",
    "df.head()"
   ]
  },
  {
   "cell_type": "code",
   "execution_count": null,
   "metadata": {},
   "outputs": [],
   "source": [
    "# remove \".0\" from poi_cbg, naics code\n",
    "df[\"poi_cbg\"] = df[\"poi_cbg\"].astype(str).str[:-2]\n",
    "\n",
    "df[\"naics_code\"] = df[\"naics_code\"].astype(str).str[:-2]\n",
    "\n",
    "\n",
    "df.head()"
   ]
  },
  {
   "cell_type": "code",
   "execution_count": null,
   "metadata": {},
   "outputs": [],
   "source": [
    "# add leading zero to poi_cbg\n",
    "df[\"poi_cbg\"] = df[\"poi_cbg\"].astype(str).apply(lambda x:x.zfill(12))\n",
    "\n",
    "df.head()\n",
    "\n",
    "#df_test = df[,:5]"
   ]
  },
  {
   "cell_type": "code",
   "execution_count": null,
   "metadata": {},
   "outputs": [],
   "source": [
    "df"
   ]
  },
  {
   "cell_type": "code",
   "execution_count": 10,
   "metadata": {},
   "outputs": [],
   "source": [
    "#import findspark\n",
    "#findspark.init()\n",
    "\n",
    "# Create spark session\n",
    "\n",
    "from pyspark.sql import SparkSession\n",
    "# had 50g, 70g\n",
    "spark = SparkSession.builder.appName(\"json unpack\").config(\"spark.driver.memory\",\"5g\").config(\"spark.executor.memory\",\"5g\").getOrCreate()\n"
   ]
  },
  {
   "cell_type": "code",
   "execution_count": 11,
   "metadata": {},
   "outputs": [],
   "source": [
    "sparkDF = spark.createDataFrame(df)"
   ]
  },
  {
   "cell_type": "code",
   "execution_count": 12,
   "metadata": {},
   "outputs": [
    {
     "name": "stdout",
     "output_type": "stream",
     "text": [
      "+-------------------+--------------------+----------+--------------------+------------+--------------------+-----------+\n",
      "|           placekey|       location_name|naics_code|   visitor_home_cbgs|     poi_cbg|bucketed_dwell_times|       city|\n",
      "+-------------------+--------------------+----------+--------------------+------------+--------------------+-----------+\n",
      "|22f-222@5z5-3rq-4sq|Ninfa's Flowers &...|    453110|{\"060372047001\":7...|060372047001|{\"<5\":7,\"5-10\":55...|Los Angeles|\n",
      "|22r-222@5z5-3r4-7wk|     Melrose Station|    722410|{\"060379011011\":4...|060371920023|{\"<5\":0,\"5-10\":5,...|Los Angeles|\n",
      "|226-222@8fc-fbw-835|    ACE Cash Express|    522390|  {\"482013321002\":4}|482013321002|{\"<5\":0,\"5-10\":2,...|    Houston|\n",
      "|23w-222@5zb-xb9-zj9| Sameera Solanki DDS|    621210|{\"040130927111\":4...|040131067012|{\"<5\":0,\"5-10\":1,...|    Phoenix|\n",
      "|22r-222@627-s8j-94v|       Blink Fitness|    713940|{\"360594067021\":5...|360610091002|{\"<5\":0,\"5-10\":7,...|   New York|\n",
      "|224-223@5z4-zvh-vcq|    UCLA Thrift Shop|    453310|{\"060372673001\":6...|060372673001|{\"<5\":2,\"5-10\":12...|Los Angeles|\n",
      "|zzw-222@5zb-xbs-9zz|Pentecostal Missi...|    813110|{\"040131070002\":1...|040131070002|{\"<5\":0,\"5-10\":15...|    Phoenix|\n",
      "|22b-223@8fc-8tn-2zf|    Memorial Hermann|    621111|  {\"480396614004\":4}|482013505003|{\"<5\":0,\"5-10\":0,...|    Houston|\n",
      "|224-223@5pw-67y-pd9|      Dream's Market|    445110|{\"170318430001\":4...|170312912002|{\"<5\":3,\"5-10\":10...|    Chicago|\n",
      "|229-222@8ts-d34-r6k|      Charley's Auto|    811111|  {\"040131164001\":4}|040131159002|{\"<5\":0,\"5-10\":2,...|    Phoenix|\n",
      "|222-222@5pw-6bt-8qf|       Green's Foods|    445110|{\"170318344003\":1...|170318344003|{\"<5\":7,\"5-10\":63...|    Chicago|\n",
      "|22f-222@627-s8j-syv|       Great Sichuan|    722511|  {\"360050152002\":4}|360610066003|{\"<5\":1,\"5-10\":1,...|   New York|\n",
      "|232-222@627-s4t-4y9|Good Taste Restau...|    722511|{\"360610223013\":9...|360610223013|{\"<5\":12,\"5-10\":7...|   New York|\n",
      "|zzw-222@8fc-9tb-t5f|Northchase Shoppi...|    531120|{\"482015511003\":1...|482015511003|{\"<5\":45,\"5-10\":3...|    Houston|\n",
      "|22w-222@5z5-3rs-n5z|        Ben Textiles|    451130|{\"410319602022\":6...|060372260021|{\"<5\":2,\"5-10\":11...|Los Angeles|\n",
      "|22g-222@5pw-6q2-mzf|Restaurant Cuetza...|    722511|{\"170310102012\":1...|170310102022|{\"<5\":5,\"5-10\":41...|    Chicago|\n",
      "|zzw-222@8fc-ffq-7h5|    Johnstone Supply|    423730|{\"482015401003\":5...|482015218001|{\"<5\":4,\"5-10\":44...|    Houston|\n",
      "|228-223@8fc-fbx-qj9|KC's Seafood & Grill|    722511|{\"482014204001\":4...|482013330001|{\"<5\":3,\"5-10\":15...|    Houston|\n",
      "|zzw-228@8fc-fbg-m49|         ULTA Beauty|    446120|  {\"482014318011\":4}|482014319002|{\"<5\":0,\"5-10\":0,...|    Houston|\n",
      "|223-222@5pw-623-wc5|          Art Museum|    712110|{\"170313201002\":6...|170313201002|{\"<5\":2,\"5-10\":21...|    Chicago|\n",
      "+-------------------+--------------------+----------+--------------------+------------+--------------------+-----------+\n",
      "only showing top 20 rows\n",
      "\n"
     ]
    }
   ],
   "source": [
    "#sparkDF.show()"
   ]
  },
  {
   "cell_type": "code",
   "execution_count": 15,
   "metadata": {},
   "outputs": [
    {
     "data": {
      "text/plain": [
       "DataFrame[placekey: string, visitor_home_cbg: string, visitor_count: int]"
      ]
     },
     "metadata": {},
     "output_type": "display_data"
    }
   ],
   "source": [
    "from pyspark.sql.functions import udf, explode\n",
    "from pyspark.sql.types import *\n",
    "#import json\n",
    "\n",
    "def parser(element):\n",
    "  return json.loads(element)\n",
    "\n",
    "jsonudf = udf(parser, MapType(StringType(), IntegerType()))\n",
    "\n",
    "visitor_home_cbgs_parsed = sparkDF.withColumn(\"parsed_visitor_home_cbgs\", jsonudf(\"visitor_home_cbgs\"))\n",
    "visitor_home_cbgs_exploded = visitor_home_cbgs_parsed.select(\"placekey\", explode(\"parsed_visitor_home_cbgs\"))\n",
    "\n",
    "display(visitor_home_cbgs_exploded.selectExpr(\"placekey as placekey\", \"key as visitor_home_cbg\",\"value as visitor_count\"))"
   ]
  },
  {
   "cell_type": "code",
   "execution_count": 16,
   "metadata": {},
   "outputs": [
    {
     "name": "stdout",
     "output_type": "stream",
     "text": [
      "+-------------------+------------+-----+\n",
      "|           placekey|         key|value|\n",
      "+-------------------+------------+-----+\n",
      "|22f-222@5z5-3rq-4sq|060377001015|    4|\n",
      "|22f-222@5z5-3rq-4sq|060372088021|    4|\n",
      "|22f-222@5z5-3rq-4sq|060372046001|    4|\n",
      "|22f-222@5z5-3rq-4sq|060373010003|    4|\n",
      "|22f-222@5z5-3rq-4sq|060372046002|    4|\n",
      "|22f-222@5z5-3rq-4sq|060375041021|    4|\n",
      "|22f-222@5z5-3rq-4sq|060375312022|    4|\n",
      "|22f-222@5z5-3rq-4sq|060372270101|    4|\n",
      "|22f-222@5z5-3rq-4sq|060372035002|    4|\n",
      "|22f-222@5z5-3rq-4sq|060375511023|    4|\n",
      "|22f-222@5z5-3rq-4sq|060375324001|    4|\n",
      "|22f-222@5z5-3rq-4sq|060372015031|    4|\n",
      "|22f-222@5z5-3rq-4sq|060372037101|    4|\n",
      "|22f-222@5z5-3rq-4sq|060372043004|    4|\n",
      "|22f-222@5z5-3rq-4sq|060374033182|    4|\n",
      "|22f-222@5z5-3rq-4sq|060372360004|    4|\n",
      "|22f-222@5z5-3rq-4sq|060372047001|    7|\n",
      "|22f-222@5z5-3rq-4sq|060372087201|    4|\n",
      "|22f-222@5z5-3rq-4sq|060372118031|    4|\n",
      "|22f-222@5z5-3rq-4sq|060374818003|    4|\n",
      "+-------------------+------------+-----+\n",
      "only showing top 20 rows\n",
      "\n"
     ]
    }
   ],
   "source": [
    "visitor_home_cbgs_exploded.show()"
   ]
  },
  {
   "cell_type": "code",
   "execution_count": 17,
   "metadata": {},
   "outputs": [],
   "source": [
    "# create new spark df grouped by the sender CBG, summing the # of visitors for each cbg\n",
    "sender_cbgs = visitor_home_cbgs_exploded.groupby(\"key\").sum(\"value\")"
   ]
  },
  {
   "cell_type": "code",
   "execution_count": 18,
   "metadata": {},
   "outputs": [
    {
     "ename": "KeyboardInterrupt",
     "evalue": "",
     "output_type": "error",
     "traceback": [
      "\u001b[0;31m---------------------------------------------------------------------------\u001b[0m",
      "\u001b[0;31mKeyboardInterrupt\u001b[0m                         Traceback (most recent call last)",
      "\u001b[0;32m<ipython-input-18-2a1a8ae570a2>\u001b[0m in \u001b[0;36m<module>\u001b[0;34m\u001b[0m\n\u001b[0;32m----> 1\u001b[0;31m \u001b[0msender_cbgs\u001b[0m\u001b[0;34m.\u001b[0m\u001b[0mshow\u001b[0m\u001b[0;34m(\u001b[0m\u001b[0;34m)\u001b[0m\u001b[0;34m\u001b[0m\u001b[0;34m\u001b[0m\u001b[0m\n\u001b[0m",
      "\u001b[0;32m~/opt/miniconda3/lib/python3.8/site-packages/pyspark/sql/dataframe.py\u001b[0m in \u001b[0;36mshow\u001b[0;34m(self, n, truncate, vertical)\u001b[0m\n\u001b[1;32m    482\u001b[0m         \"\"\"\n\u001b[1;32m    483\u001b[0m         \u001b[0;32mif\u001b[0m \u001b[0misinstance\u001b[0m\u001b[0;34m(\u001b[0m\u001b[0mtruncate\u001b[0m\u001b[0;34m,\u001b[0m \u001b[0mbool\u001b[0m\u001b[0;34m)\u001b[0m \u001b[0;32mand\u001b[0m \u001b[0mtruncate\u001b[0m\u001b[0;34m:\u001b[0m\u001b[0;34m\u001b[0m\u001b[0;34m\u001b[0m\u001b[0m\n\u001b[0;32m--> 484\u001b[0;31m             \u001b[0mprint\u001b[0m\u001b[0;34m(\u001b[0m\u001b[0mself\u001b[0m\u001b[0;34m.\u001b[0m\u001b[0m_jdf\u001b[0m\u001b[0;34m.\u001b[0m\u001b[0mshowString\u001b[0m\u001b[0;34m(\u001b[0m\u001b[0mn\u001b[0m\u001b[0;34m,\u001b[0m \u001b[0;36m20\u001b[0m\u001b[0;34m,\u001b[0m \u001b[0mvertical\u001b[0m\u001b[0;34m)\u001b[0m\u001b[0;34m)\u001b[0m\u001b[0;34m\u001b[0m\u001b[0;34m\u001b[0m\u001b[0m\n\u001b[0m\u001b[1;32m    485\u001b[0m         \u001b[0;32melse\u001b[0m\u001b[0;34m:\u001b[0m\u001b[0;34m\u001b[0m\u001b[0;34m\u001b[0m\u001b[0m\n\u001b[1;32m    486\u001b[0m             \u001b[0mprint\u001b[0m\u001b[0;34m(\u001b[0m\u001b[0mself\u001b[0m\u001b[0;34m.\u001b[0m\u001b[0m_jdf\u001b[0m\u001b[0;34m.\u001b[0m\u001b[0mshowString\u001b[0m\u001b[0;34m(\u001b[0m\u001b[0mn\u001b[0m\u001b[0;34m,\u001b[0m \u001b[0mint\u001b[0m\u001b[0;34m(\u001b[0m\u001b[0mtruncate\u001b[0m\u001b[0;34m)\u001b[0m\u001b[0;34m,\u001b[0m \u001b[0mvertical\u001b[0m\u001b[0;34m)\u001b[0m\u001b[0;34m)\u001b[0m\u001b[0;34m\u001b[0m\u001b[0;34m\u001b[0m\u001b[0m\n",
      "\u001b[0;32m~/opt/miniconda3/lib/python3.8/site-packages/py4j/java_gateway.py\u001b[0m in \u001b[0;36m__call__\u001b[0;34m(self, *args)\u001b[0m\n\u001b[1;32m   1301\u001b[0m             \u001b[0mproto\u001b[0m\u001b[0;34m.\u001b[0m\u001b[0mEND_COMMAND_PART\u001b[0m\u001b[0;34m\u001b[0m\u001b[0;34m\u001b[0m\u001b[0m\n\u001b[1;32m   1302\u001b[0m \u001b[0;34m\u001b[0m\u001b[0m\n\u001b[0;32m-> 1303\u001b[0;31m         \u001b[0manswer\u001b[0m \u001b[0;34m=\u001b[0m \u001b[0mself\u001b[0m\u001b[0;34m.\u001b[0m\u001b[0mgateway_client\u001b[0m\u001b[0;34m.\u001b[0m\u001b[0msend_command\u001b[0m\u001b[0;34m(\u001b[0m\u001b[0mcommand\u001b[0m\u001b[0;34m)\u001b[0m\u001b[0;34m\u001b[0m\u001b[0;34m\u001b[0m\u001b[0m\n\u001b[0m\u001b[1;32m   1304\u001b[0m         return_value = get_return_value(\n\u001b[1;32m   1305\u001b[0m             answer, self.gateway_client, self.target_id, self.name)\n",
      "\u001b[0;32m~/opt/miniconda3/lib/python3.8/site-packages/py4j/java_gateway.py\u001b[0m in \u001b[0;36msend_command\u001b[0;34m(self, command, retry, binary)\u001b[0m\n\u001b[1;32m   1031\u001b[0m         \u001b[0mconnection\u001b[0m \u001b[0;34m=\u001b[0m \u001b[0mself\u001b[0m\u001b[0;34m.\u001b[0m\u001b[0m_get_connection\u001b[0m\u001b[0;34m(\u001b[0m\u001b[0;34m)\u001b[0m\u001b[0;34m\u001b[0m\u001b[0;34m\u001b[0m\u001b[0m\n\u001b[1;32m   1032\u001b[0m         \u001b[0;32mtry\u001b[0m\u001b[0;34m:\u001b[0m\u001b[0;34m\u001b[0m\u001b[0;34m\u001b[0m\u001b[0m\n\u001b[0;32m-> 1033\u001b[0;31m             \u001b[0mresponse\u001b[0m \u001b[0;34m=\u001b[0m \u001b[0mconnection\u001b[0m\u001b[0;34m.\u001b[0m\u001b[0msend_command\u001b[0m\u001b[0;34m(\u001b[0m\u001b[0mcommand\u001b[0m\u001b[0;34m)\u001b[0m\u001b[0;34m\u001b[0m\u001b[0;34m\u001b[0m\u001b[0m\n\u001b[0m\u001b[1;32m   1034\u001b[0m             \u001b[0;32mif\u001b[0m \u001b[0mbinary\u001b[0m\u001b[0;34m:\u001b[0m\u001b[0;34m\u001b[0m\u001b[0;34m\u001b[0m\u001b[0m\n\u001b[1;32m   1035\u001b[0m                 \u001b[0;32mreturn\u001b[0m \u001b[0mresponse\u001b[0m\u001b[0;34m,\u001b[0m \u001b[0mself\u001b[0m\u001b[0;34m.\u001b[0m\u001b[0m_create_connection_guard\u001b[0m\u001b[0;34m(\u001b[0m\u001b[0mconnection\u001b[0m\u001b[0;34m)\u001b[0m\u001b[0;34m\u001b[0m\u001b[0;34m\u001b[0m\u001b[0m\n",
      "\u001b[0;32m~/opt/miniconda3/lib/python3.8/site-packages/py4j/java_gateway.py\u001b[0m in \u001b[0;36msend_command\u001b[0;34m(self, command)\u001b[0m\n\u001b[1;32m   1198\u001b[0m \u001b[0;34m\u001b[0m\u001b[0m\n\u001b[1;32m   1199\u001b[0m         \u001b[0;32mtry\u001b[0m\u001b[0;34m:\u001b[0m\u001b[0;34m\u001b[0m\u001b[0;34m\u001b[0m\u001b[0m\n\u001b[0;32m-> 1200\u001b[0;31m             \u001b[0manswer\u001b[0m \u001b[0;34m=\u001b[0m \u001b[0msmart_decode\u001b[0m\u001b[0;34m(\u001b[0m\u001b[0mself\u001b[0m\u001b[0;34m.\u001b[0m\u001b[0mstream\u001b[0m\u001b[0;34m.\u001b[0m\u001b[0mreadline\u001b[0m\u001b[0;34m(\u001b[0m\u001b[0;34m)\u001b[0m\u001b[0;34m[\u001b[0m\u001b[0;34m:\u001b[0m\u001b[0;34m-\u001b[0m\u001b[0;36m1\u001b[0m\u001b[0;34m]\u001b[0m\u001b[0;34m)\u001b[0m\u001b[0;34m\u001b[0m\u001b[0;34m\u001b[0m\u001b[0m\n\u001b[0m\u001b[1;32m   1201\u001b[0m             \u001b[0mlogger\u001b[0m\u001b[0;34m.\u001b[0m\u001b[0mdebug\u001b[0m\u001b[0;34m(\u001b[0m\u001b[0;34m\"Answer received: {0}\"\u001b[0m\u001b[0;34m.\u001b[0m\u001b[0mformat\u001b[0m\u001b[0;34m(\u001b[0m\u001b[0manswer\u001b[0m\u001b[0;34m)\u001b[0m\u001b[0;34m)\u001b[0m\u001b[0;34m\u001b[0m\u001b[0;34m\u001b[0m\u001b[0m\n\u001b[1;32m   1202\u001b[0m             \u001b[0;32mif\u001b[0m \u001b[0manswer\u001b[0m\u001b[0;34m.\u001b[0m\u001b[0mstartswith\u001b[0m\u001b[0;34m(\u001b[0m\u001b[0mproto\u001b[0m\u001b[0;34m.\u001b[0m\u001b[0mRETURN_MESSAGE\u001b[0m\u001b[0;34m)\u001b[0m\u001b[0;34m:\u001b[0m\u001b[0;34m\u001b[0m\u001b[0;34m\u001b[0m\u001b[0m\n",
      "\u001b[0;32m~/opt/miniconda3/lib/python3.8/socket.py\u001b[0m in \u001b[0;36mreadinto\u001b[0;34m(self, b)\u001b[0m\n\u001b[1;32m    667\u001b[0m         \u001b[0;32mwhile\u001b[0m \u001b[0;32mTrue\u001b[0m\u001b[0;34m:\u001b[0m\u001b[0;34m\u001b[0m\u001b[0;34m\u001b[0m\u001b[0m\n\u001b[1;32m    668\u001b[0m             \u001b[0;32mtry\u001b[0m\u001b[0;34m:\u001b[0m\u001b[0;34m\u001b[0m\u001b[0;34m\u001b[0m\u001b[0m\n\u001b[0;32m--> 669\u001b[0;31m                 \u001b[0;32mreturn\u001b[0m \u001b[0mself\u001b[0m\u001b[0;34m.\u001b[0m\u001b[0m_sock\u001b[0m\u001b[0;34m.\u001b[0m\u001b[0mrecv_into\u001b[0m\u001b[0;34m(\u001b[0m\u001b[0mb\u001b[0m\u001b[0;34m)\u001b[0m\u001b[0;34m\u001b[0m\u001b[0;34m\u001b[0m\u001b[0m\n\u001b[0m\u001b[1;32m    670\u001b[0m             \u001b[0;32mexcept\u001b[0m \u001b[0mtimeout\u001b[0m\u001b[0;34m:\u001b[0m\u001b[0;34m\u001b[0m\u001b[0;34m\u001b[0m\u001b[0m\n\u001b[1;32m    671\u001b[0m                 \u001b[0mself\u001b[0m\u001b[0;34m.\u001b[0m\u001b[0m_timeout_occurred\u001b[0m \u001b[0;34m=\u001b[0m \u001b[0;32mTrue\u001b[0m\u001b[0;34m\u001b[0m\u001b[0;34m\u001b[0m\u001b[0m\n",
      "\u001b[0;31mKeyboardInterrupt\u001b[0m: "
     ]
    }
   ],
   "source": [
    "#sender_cbgs.show()"
   ]
  },
  {
   "cell_type": "code",
   "execution_count": null,
   "metadata": {},
   "outputs": [],
   "source": [
    "spark.conf.set(\"spark.sql.execution.arrow.pyspark.enabled\",\"true\")"
   ]
  },
  {
   "cell_type": "code",
   "execution_count": null,
   "metadata": {},
   "outputs": [],
   "source": [
    "#parsed_home_cbgs = visitor_home_cbgs_exploded.toPandas()"
   ]
  },
  {
   "cell_type": "code",
   "execution_count": 16,
   "metadata": {},
   "outputs": [],
   "source": [
    "#parsed_home_cbgs = parsed_home_cbgs.rename(columns={\"key\":\"sender_cbg\",\"value\":\"num_visitors\"})"
   ]
  },
  {
   "cell_type": "code",
   "execution_count": 17,
   "metadata": {},
   "outputs": [
    {
     "data": {
      "text/html": [
       "<div>\n",
       "<style scoped>\n",
       "    .dataframe tbody tr th:only-of-type {\n",
       "        vertical-align: middle;\n",
       "    }\n",
       "\n",
       "    .dataframe tbody tr th {\n",
       "        vertical-align: top;\n",
       "    }\n",
       "\n",
       "    .dataframe thead th {\n",
       "        text-align: right;\n",
       "    }\n",
       "</style>\n",
       "<table border=\"1\" class=\"dataframe\">\n",
       "  <thead>\n",
       "    <tr style=\"text-align: right;\">\n",
       "      <th></th>\n",
       "      <th>placekey</th>\n",
       "      <th>sender_cbg</th>\n",
       "      <th>num_visitors</th>\n",
       "    </tr>\n",
       "  </thead>\n",
       "  <tbody>\n",
       "    <tr>\n",
       "      <th>0</th>\n",
       "      <td>229-222@5z4-zwk-rzf</td>\n",
       "      <td>060372760004</td>\n",
       "      <td>4</td>\n",
       "    </tr>\n",
       "    <tr>\n",
       "      <th>1</th>\n",
       "      <td>229-222@5z4-zwk-rzf</td>\n",
       "      <td>060372314001</td>\n",
       "      <td>4</td>\n",
       "    </tr>\n",
       "    <tr>\n",
       "      <th>2</th>\n",
       "      <td>229-222@5z4-zwk-rzf</td>\n",
       "      <td>060376020021</td>\n",
       "      <td>4</td>\n",
       "    </tr>\n",
       "    <tr>\n",
       "      <th>3</th>\n",
       "      <td>229-222@5z4-zwk-rzf</td>\n",
       "      <td>060650419111</td>\n",
       "      <td>4</td>\n",
       "    </tr>\n",
       "    <tr>\n",
       "      <th>4</th>\n",
       "      <td>zzw-223@5z6-2mt-qcq</td>\n",
       "      <td>060590525181</td>\n",
       "      <td>4</td>\n",
       "    </tr>\n",
       "    <tr>\n",
       "      <th>...</th>\n",
       "      <td>...</td>\n",
       "      <td>...</td>\n",
       "      <td>...</td>\n",
       "    </tr>\n",
       "    <tr>\n",
       "      <th>51401846</th>\n",
       "      <td>zzw-224@5z4-rxn-85f</td>\n",
       "      <td>060590867012</td>\n",
       "      <td>4</td>\n",
       "    </tr>\n",
       "    <tr>\n",
       "      <th>51401847</th>\n",
       "      <td>zzw-224@5z4-rxn-85f</td>\n",
       "      <td>060590865011</td>\n",
       "      <td>4</td>\n",
       "    </tr>\n",
       "    <tr>\n",
       "      <th>51401848</th>\n",
       "      <td>zzw-224@5z4-rxn-85f</td>\n",
       "      <td>060590866023</td>\n",
       "      <td>6</td>\n",
       "    </tr>\n",
       "    <tr>\n",
       "      <th>51401849</th>\n",
       "      <td>zzw-224@5z4-rxn-85f</td>\n",
       "      <td>060590018011</td>\n",
       "      <td>4</td>\n",
       "    </tr>\n",
       "    <tr>\n",
       "      <th>51401850</th>\n",
       "      <td>zzw-224@5z4-rxn-85f</td>\n",
       "      <td>060590758053</td>\n",
       "      <td>4</td>\n",
       "    </tr>\n",
       "  </tbody>\n",
       "</table>\n",
       "<p>51401851 rows × 3 columns</p>\n",
       "</div>"
      ],
      "text/plain": [
       "                     placekey    sender_cbg  num_visitors\n",
       "0         229-222@5z4-zwk-rzf  060372760004             4\n",
       "1         229-222@5z4-zwk-rzf  060372314001             4\n",
       "2         229-222@5z4-zwk-rzf  060376020021             4\n",
       "3         229-222@5z4-zwk-rzf  060650419111             4\n",
       "4         zzw-223@5z6-2mt-qcq  060590525181             4\n",
       "...                       ...           ...           ...\n",
       "51401846  zzw-224@5z4-rxn-85f  060590867012             4\n",
       "51401847  zzw-224@5z4-rxn-85f  060590865011             4\n",
       "51401848  zzw-224@5z4-rxn-85f  060590866023             6\n",
       "51401849  zzw-224@5z4-rxn-85f  060590018011             4\n",
       "51401850  zzw-224@5z4-rxn-85f  060590758053             4\n",
       "\n",
       "[51401851 rows x 3 columns]"
      ]
     },
     "execution_count": 17,
     "metadata": {},
     "output_type": "execute_result"
    }
   ],
   "source": [
    "#parsed_home_cbgs"
   ]
  },
  {
   "cell_type": "code",
   "execution_count": 18,
   "metadata": {},
   "outputs": [],
   "source": [
    "#ft_traffic = df.merge(parsed_home_cbgs, how=\"inner\",on=\"placekey\")"
   ]
  },
  {
   "cell_type": "code",
   "execution_count": 1,
   "metadata": {},
   "outputs": [
    {
     "ename": "NameError",
     "evalue": "name 'ft_traffic' is not defined",
     "output_type": "error",
     "traceback": [
      "\u001b[0;31m---------------------------------------------------------------------------\u001b[0m",
      "\u001b[0;31mNameError\u001b[0m                                 Traceback (most recent call last)",
      "\u001b[0;32m<ipython-input-1-7754f58a7a73>\u001b[0m in \u001b[0;36m<module>\u001b[0;34m\u001b[0m\n\u001b[1;32m      1\u001b[0m \u001b[0;31m# reorder columns\u001b[0m\u001b[0;34m\u001b[0m\u001b[0;34m\u001b[0m\u001b[0;34m\u001b[0m\u001b[0m\n\u001b[0;32m----> 2\u001b[0;31m \u001b[0mft_traffic\u001b[0m \u001b[0;34m=\u001b[0m \u001b[0mft_traffic\u001b[0m\u001b[0;34m[\u001b[0m\u001b[0;34m[\u001b[0m\u001b[0;34m\"sender_cbg\"\u001b[0m\u001b[0;34m,\u001b[0m\u001b[0;34m\"poi_cbg\"\u001b[0m\u001b[0;34m,\u001b[0m\u001b[0;34m\"num_visitors\"\u001b[0m\u001b[0;34m,\u001b[0m\u001b[0;34m\"naics_code\"\u001b[0m\u001b[0;34m]\u001b[0m\u001b[0;34m]\u001b[0m\u001b[0;34m\u001b[0m\u001b[0;34m\u001b[0m\u001b[0m\n\u001b[0m",
      "\u001b[0;31mNameError\u001b[0m: name 'ft_traffic' is not defined"
     ]
    }
   ],
   "source": [
    "# reorder columns\n",
    "#ft_traffic = ft_traffic[[\"sender_cbg\",\"poi_cbg\",\"num_visitors\",\"naics_code\"]]"
   ]
  }
 ],
 "metadata": {
  "kernelspec": {
   "display_name": "Python 3",
   "language": "python",
   "name": "python3"
  },
  "language_info": {
   "codemirror_mode": {
    "name": "ipython",
    "version": 3
   },
   "file_extension": ".py",
   "mimetype": "text/x-python",
   "name": "python",
   "nbconvert_exporter": "python",
   "pygments_lexer": "ipython3",
   "version": "3.8.3"
  }
 },
 "nbformat": 4,
 "nbformat_minor": 4
}
